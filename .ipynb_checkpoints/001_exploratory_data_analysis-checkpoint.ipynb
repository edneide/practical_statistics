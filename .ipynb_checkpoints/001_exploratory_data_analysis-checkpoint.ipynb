{
 "cells": [
  {
   "cell_type": "markdown",
   "id": "97683c9e",
   "metadata": {},
   "source": [
    "# 0. Packages"
   ]
  },
  {
   "cell_type": "code",
   "execution_count": 22,
   "id": "0de2245f",
   "metadata": {
    "ExecuteTime": {
     "end_time": "2022-01-14T14:13:19.657656Z",
     "start_time": "2022-01-14T14:13:19.178623Z"
    }
   },
   "outputs": [],
   "source": [
    "import pandas as pd\n",
    "import numpy as np\n",
    "import scipy.stats as sts\n",
    "import wquantiles\n",
    "import statsmodels.api as sm"
   ]
  },
  {
   "cell_type": "markdown",
   "id": "6e0b6daa",
   "metadata": {},
   "source": [
    "# Example: Location Estimates of Population and Murder Rates"
   ]
  },
  {
   "cell_type": "code",
   "execution_count": 6,
   "id": "cbfe34d0",
   "metadata": {
    "ExecuteTime": {
     "end_time": "2022-01-14T14:08:53.426498Z",
     "start_time": "2022-01-14T14:08:52.806523Z"
    }
   },
   "outputs": [
    {
     "data": {
      "text/html": [
       "<div>\n",
       "<style scoped>\n",
       "    .dataframe tbody tr th:only-of-type {\n",
       "        vertical-align: middle;\n",
       "    }\n",
       "\n",
       "    .dataframe tbody tr th {\n",
       "        vertical-align: top;\n",
       "    }\n",
       "\n",
       "    .dataframe thead th {\n",
       "        text-align: right;\n",
       "    }\n",
       "</style>\n",
       "<table border=\"1\" class=\"dataframe\">\n",
       "  <thead>\n",
       "    <tr style=\"text-align: right;\">\n",
       "      <th></th>\n",
       "      <th>State</th>\n",
       "      <th>Population</th>\n",
       "      <th>Murder.Rate</th>\n",
       "      <th>Abbreviation</th>\n",
       "    </tr>\n",
       "  </thead>\n",
       "  <tbody>\n",
       "    <tr>\n",
       "      <th>0</th>\n",
       "      <td>Alabama</td>\n",
       "      <td>4779736</td>\n",
       "      <td>5.7</td>\n",
       "      <td>AL</td>\n",
       "    </tr>\n",
       "    <tr>\n",
       "      <th>1</th>\n",
       "      <td>Alaska</td>\n",
       "      <td>710231</td>\n",
       "      <td>5.6</td>\n",
       "      <td>AK</td>\n",
       "    </tr>\n",
       "    <tr>\n",
       "      <th>2</th>\n",
       "      <td>Arizona</td>\n",
       "      <td>6392017</td>\n",
       "      <td>4.7</td>\n",
       "      <td>AZ</td>\n",
       "    </tr>\n",
       "    <tr>\n",
       "      <th>3</th>\n",
       "      <td>Arkansas</td>\n",
       "      <td>2915918</td>\n",
       "      <td>5.6</td>\n",
       "      <td>AR</td>\n",
       "    </tr>\n",
       "    <tr>\n",
       "      <th>4</th>\n",
       "      <td>California</td>\n",
       "      <td>37253956</td>\n",
       "      <td>4.4</td>\n",
       "      <td>CA</td>\n",
       "    </tr>\n",
       "  </tbody>\n",
       "</table>\n",
       "</div>"
      ],
      "text/plain": [
       "        State  Population  Murder.Rate Abbreviation\n",
       "0     Alabama     4779736          5.7           AL\n",
       "1      Alaska      710231          5.6           AK\n",
       "2     Arizona     6392017          4.7           AZ\n",
       "3    Arkansas     2915918          5.6           AR\n",
       "4  California    37253956          4.4           CA"
      ]
     },
     "execution_count": 6,
     "metadata": {},
     "output_type": "execute_result"
    }
   ],
   "source": [
    "path = 'https://raw.githubusercontent.com/gedeck/practical-statistics-for-data-scientists/master/data/state.csv'\n",
    "state = pd.read_csv(path)\n",
    "state.head()"
   ]
  },
  {
   "cell_type": "code",
   "execution_count": 7,
   "id": "c609483d",
   "metadata": {
    "ExecuteTime": {
     "end_time": "2022-01-14T14:08:54.530914Z",
     "start_time": "2022-01-14T14:08:54.526581Z"
    }
   },
   "outputs": [
    {
     "data": {
      "text/plain": [
       "(50, 4)"
      ]
     },
     "execution_count": 7,
     "metadata": {},
     "output_type": "execute_result"
    }
   ],
   "source": [
    "state.shape"
   ]
  },
  {
   "cell_type": "code",
   "execution_count": 8,
   "id": "e1566646",
   "metadata": {
    "ExecuteTime": {
     "end_time": "2022-01-14T14:08:56.646671Z",
     "start_time": "2022-01-14T14:08:56.641445Z"
    }
   },
   "outputs": [
    {
     "data": {
      "text/plain": [
       "State            object\n",
       "Population        int64\n",
       "Murder.Rate     float64\n",
       "Abbreviation     object\n",
       "dtype: object"
      ]
     },
     "execution_count": 8,
     "metadata": {},
     "output_type": "execute_result"
    }
   ],
   "source": [
    "state.dtypes"
   ]
  },
  {
   "cell_type": "code",
   "execution_count": 9,
   "id": "f44fdb53",
   "metadata": {
    "ExecuteTime": {
     "end_time": "2022-01-14T14:08:58.592966Z",
     "start_time": "2022-01-14T14:08:58.588364Z"
    }
   },
   "outputs": [
    {
     "data": {
      "text/plain": [
       "6162876.3"
      ]
     },
     "execution_count": 9,
     "metadata": {},
     "output_type": "execute_result"
    }
   ],
   "source": [
    "state['Population'].mean()"
   ]
  },
  {
   "cell_type": "code",
   "execution_count": 10,
   "id": "03f8c1ea",
   "metadata": {
    "ExecuteTime": {
     "end_time": "2022-01-14T14:09:00.179546Z",
     "start_time": "2022-01-14T14:09:00.175192Z"
    }
   },
   "outputs": [
    {
     "data": {
      "text/plain": [
       "4783697.125"
      ]
     },
     "execution_count": 10,
     "metadata": {},
     "output_type": "execute_result"
    }
   ],
   "source": [
    "sts.trim_mean(state['Population'], 0.1)"
   ]
  },
  {
   "cell_type": "code",
   "execution_count": 11,
   "id": "d942377c",
   "metadata": {
    "ExecuteTime": {
     "end_time": "2022-01-14T14:09:02.279655Z",
     "start_time": "2022-01-14T14:09:02.275630Z"
    }
   },
   "outputs": [
    {
     "data": {
      "text/plain": [
       "4436369.5"
      ]
     },
     "execution_count": 11,
     "metadata": {},
     "output_type": "execute_result"
    }
   ],
   "source": [
    "state['Population'].median()"
   ]
  },
  {
   "cell_type": "markdown",
   "id": "45586ad8",
   "metadata": {},
   "source": [
    "- A média é maior que a média truncada, que é maior do que a mediana. \n",
    "- `trim=0.1` remove 10% de dados de cada ponta, 10% na parte superior, 10% na parte inferior.\n",
    "- Se quisermos usar a taxa média de assassinato para o país, devemos usar a média ponderada ou a mediana para levar em conta as diferentes populações nos estados. "
   ]
  },
  {
   "cell_type": "code",
   "execution_count": 12,
   "id": "5e0ddee2",
   "metadata": {
    "ExecuteTime": {
     "end_time": "2022-01-14T14:09:04.622901Z",
     "start_time": "2022-01-14T14:09:04.618087Z"
    }
   },
   "outputs": [
    {
     "data": {
      "text/plain": [
       "4.445833981123393"
      ]
     },
     "execution_count": 12,
     "metadata": {},
     "output_type": "execute_result"
    }
   ],
   "source": [
    "np.average(state['Murder.Rate'], weights=state['Population'])"
   ]
  },
  {
   "cell_type": "code",
   "execution_count": 13,
   "id": "7ca12616",
   "metadata": {
    "ExecuteTime": {
     "end_time": "2022-01-14T14:09:06.231965Z",
     "start_time": "2022-01-14T14:09:06.226850Z"
    }
   },
   "outputs": [
    {
     "data": {
      "text/plain": [
       "4.4"
      ]
     },
     "execution_count": 13,
     "metadata": {},
     "output_type": "execute_result"
    }
   ],
   "source": [
    "wquantiles.median(state['Murder.Rate'], weights=state['Population'])"
   ]
  },
  {
   "cell_type": "markdown",
   "id": "e153eaa0",
   "metadata": {},
   "source": [
    "Neste caso, mediana e média ponderadas foram quase as mesmas."
   ]
  },
  {
   "cell_type": "markdown",
   "id": "5ed58281",
   "metadata": {},
   "source": [
    "# Exemplo: medidas de variabilidade "
   ]
  },
  {
   "cell_type": "markdown",
   "id": "39d22fd5",
   "metadata": {},
   "source": [
    "Vamos usar o pandas para calcular tais medidas"
   ]
  },
  {
   "cell_type": "code",
   "execution_count": 17,
   "id": "5e4f895e",
   "metadata": {
    "ExecuteTime": {
     "end_time": "2022-01-14T14:11:17.064166Z",
     "start_time": "2022-01-14T14:11:17.060104Z"
    }
   },
   "outputs": [
    {
     "data": {
      "text/plain": [
       "6848235.347401142"
      ]
     },
     "execution_count": 17,
     "metadata": {},
     "output_type": "execute_result"
    }
   ],
   "source": [
    "std = state['Population'].std()\n",
    "std"
   ]
  },
  {
   "cell_type": "code",
   "execution_count": 18,
   "id": "082240c4",
   "metadata": {
    "ExecuteTime": {
     "end_time": "2022-01-14T14:11:18.628039Z",
     "start_time": "2022-01-14T14:11:18.621984Z"
    }
   },
   "outputs": [
    {
     "data": {
      "text/plain": [
       "4847308.0"
      ]
     },
     "execution_count": 18,
     "metadata": {},
     "output_type": "execute_result"
    }
   ],
   "source": [
    "IQR = state['Population'].quantile(0.75) - state['Population'].quantile(0.25)\n",
    "IQR"
   ]
  },
  {
   "cell_type": "markdown",
   "id": "cab8f8fe",
   "metadata": {},
   "source": [
    "- Para calcular o MAD usamos a função `robust.scale.mad` do pacote `statsmodels`: "
   ]
  },
  {
   "cell_type": "code",
   "execution_count": 23,
   "id": "90042d84",
   "metadata": {
    "ExecuteTime": {
     "end_time": "2022-01-14T14:13:43.234776Z",
     "start_time": "2022-01-14T14:13:43.230142Z"
    }
   },
   "outputs": [
    {
     "data": {
      "text/plain": [
       "3849876.1459979336"
      ]
     },
     "execution_count": 23,
     "metadata": {},
     "output_type": "execute_result"
    }
   ],
   "source": [
    "sm.robust.scale.mad(state['Population'])"
   ]
  },
  {
   "cell_type": "code",
   "execution_count": null,
   "id": "18c165ad",
   "metadata": {},
   "outputs": [],
   "source": []
  },
  {
   "cell_type": "code",
   "execution_count": null,
   "id": "ae3c33f3",
   "metadata": {},
   "outputs": [],
   "source": []
  }
 ],
 "metadata": {
  "kernelspec": {
   "display_name": "Python 3 (ipykernel)",
   "language": "python",
   "name": "python3"
  },
  "language_info": {
   "codemirror_mode": {
    "name": "ipython",
    "version": 3
   },
   "file_extension": ".py",
   "mimetype": "text/x-python",
   "name": "python",
   "nbconvert_exporter": "python",
   "pygments_lexer": "ipython3",
   "version": "3.9.7"
  }
 },
 "nbformat": 4,
 "nbformat_minor": 5
}
